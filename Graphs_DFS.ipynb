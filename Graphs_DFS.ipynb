{
  "nbformat": 4,
  "nbformat_minor": 0,
  "metadata": {
    "colab": {
      "name": "Graphs_DFS.ipynb",
      "provenance": [],
      "collapsed_sections": [],
      "authorship_tag": "ABX9TyN1A1VQZxiX3X0W0OaPnWt8",
      "include_colab_link": true
    },
    "kernelspec": {
      "name": "python3",
      "display_name": "Python 3"
    },
    "language_info": {
      "name": "python"
    }
  },
  "cells": [
    {
      "cell_type": "markdown",
      "metadata": {
        "id": "view-in-github",
        "colab_type": "text"
      },
      "source": [
        "<a href=\"https://colab.research.google.com/github/manumanoj0010/Python_DSA/blob/main/Graphs_DFS.ipynb\" target=\"_parent\"><img src=\"https://colab.research.google.com/assets/colab-badge.svg\" alt=\"Open In Colab\"/></a>"
      ]
    },
    {
      "cell_type": "code",
      "source": [
        "class Graph:\n",
        "  def __init__(self,nVertices):\n",
        "    self.nVertices = nVertices\n",
        "    self.adjMatrix = [[0 for i in range(nVertices)] for j in range(nVertices)]\n",
        "  \n",
        "  def addEdge(self)\n"
      ],
      "metadata": {
        "id": "RAYAelyfn1XY"
      },
      "execution_count": null,
      "outputs": []
    }
  ]
}