{
  "nbformat": 4,
  "nbformat_minor": 0,
  "metadata": {
    "colab": {
      "name": "Graphs.ipynb",
      "provenance": [],
      "collapsed_sections": [],
      "authorship_tag": "ABX9TyMMTy0bliY9J0tjC9nRry94",
      "include_colab_link": true
    },
    "kernelspec": {
      "name": "python3",
      "display_name": "Python 3"
    },
    "language_info": {
      "name": "python"
    }
  },
  "cells": [
    {
      "cell_type": "markdown",
      "metadata": {
        "id": "view-in-github",
        "colab_type": "text"
      },
      "source": [
        "<a href=\"https://colab.research.google.com/github/manumanoj0010/Python_DSA/blob/main/Graphs.ipynb\" target=\"_parent\"><img src=\"https://colab.research.google.com/assets/colab-badge.svg\" alt=\"Open In Colab\"/></a>"
      ]
    },
    {
      "cell_type": "code",
      "source": [
        "import queue\n",
        "class Graph:\n",
        "    def __init__(self,nVertices):\n",
        "        self.nVertices = nVertices\n",
        "        self.adjMatrix = [[0 for i in range(nVertices)] for j in range(nVertices)]\n",
        "  \n",
        "    def addEdge(self,v1,v2):\n",
        "        self.adjMatrix[v1][v2] = 1\n",
        "        self.adjMatrix[v2][v1] = 1\n",
        "\n",
        "    \n",
        "    def __dfsHelper(self,sv, visited):\n",
        "        print(sv)\n",
        "        visited[sv] = True\n",
        "        for i in range(self.nVertices):\n",
        "            if (self.adjMatrix[sv][i]>0 and visited[i] is False):\n",
        "                self.__dfsHelper(i,visited)\n",
        "    \n",
        "    def dfs(self):\n",
        "        visited = [False for i in range(self.nVertices)]\n",
        "        for i in range(self.nVertices):\n",
        "            if visited[i] is False:\n",
        "                self.__dfsHelper(i, visited)\n",
        "\n",
        "    def __bfsHelper(self, sv, visited):\n",
        "        q = queue.Queue()\n",
        "        q.put(sv)\n",
        "        visited[sv] = True\n",
        "        while q.empty() is False:\n",
        "            u = q.get()\n",
        "            print(u)\n",
        "            for i in range(self.nVertices):\n",
        "                if self.adjMatrix[u][i]>0 and visited[i] is False:\n",
        "                    q.put(i)\n",
        "                    visited[i] = True\n",
        "            \n",
        "    def bfs(self):\n",
        "        visited = [False for i in range(self.nVertices)]\n",
        "        for i in range(self.nVertices):\n",
        "            if visited[i] is False:\n",
        "                self.__bfsHelper(i, visited)\n",
        "\n",
        "  \n",
        "    def removeEdge(self,v1,v2):\n",
        "        if self.containsEdge(v1,v2) is False:\n",
        "            return\n",
        "        self.adjMatrix[v1][v2] = 0\n",
        "        self.adjMatrix[v2][v2] = 0\n",
        "    \n",
        "    def containsEdge(self, v1,v2):\n",
        "        return True if self.adjMatrix[v1][v2]>0 else False\n",
        "\n",
        "    def __str__(self):\n",
        "        return str(self.adjMatrix)\n",
        "    \n",
        "\n",
        "g = Graph(7)\n",
        "g.addEdge(0,1)\n",
        "g.addEdge(0,3)\n",
        "g.addEdge(2,4)\n",
        "g.addEdge(2,5)\n",
        "g.addEdge(4,6)\n",
        "# g.dfs()\n",
        "g.bfs()\n",
        "\n",
        "\n"
      ],
      "metadata": {
        "colab": {
          "base_uri": "https://localhost:8080/"
        },
        "id": "RAYAelyfn1XY",
        "outputId": "ce23ea9e-4bbf-445c-d2cb-1b34790a6be5"
      },
      "execution_count": 8,
      "outputs": [
        {
          "output_type": "stream",
          "name": "stdout",
          "text": [
            "0\n",
            "1\n",
            "3\n",
            "2\n",
            "4\n",
            "5\n",
            "6\n"
          ]
        }
      ]
    },
    {
      "cell_type": "code",
      "source": [
        "   "
      ],
      "metadata": {
        "id": "AZJQxnlFx8Jk"
      },
      "execution_count": null,
      "outputs": []
    }
  ]
}