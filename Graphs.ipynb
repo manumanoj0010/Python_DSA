{
  "nbformat": 4,
  "nbformat_minor": 0,
  "metadata": {
    "colab": {
      "name": "Graphs.ipynb",
      "provenance": [],
      "collapsed_sections": [],
      "authorship_tag": "ABX9TyPd8p5XRR43mg0PmRhlNMnT",
      "include_colab_link": true
    },
    "kernelspec": {
      "name": "python3",
      "display_name": "Python 3"
    },
    "language_info": {
      "name": "python"
    }
  },
  "cells": [
    {
      "cell_type": "markdown",
      "metadata": {
        "id": "view-in-github",
        "colab_type": "text"
      },
      "source": [
        "<a href=\"https://colab.research.google.com/github/manumanoj0010/Python_DSA/blob/main/Graphs.ipynb\" target=\"_parent\"><img src=\"https://colab.research.google.com/assets/colab-badge.svg\" alt=\"Open In Colab\"/></a>"
      ]
    },
    {
      "cell_type": "code",
      "source": [
        "import queue\n",
        "class Graph:\n",
        "    def __init__(self,nVertices):\n",
        "        self.nVertices = nVertices\n",
        "        self.adjMatrix = [[0 for i in range(nVertices)] for j in range(nVertices)]\n",
        "  \n",
        "    def addEdge(self,v1,v2):\n",
        "        self.adjMatrix[v1][v2] = 1\n",
        "        self.adjMatrix[v2][v1] = 1\n",
        "\n",
        "    \n",
        "    def __dfsHelper(self,sv, visited):\n",
        "        print(sv)\n",
        "        visited[sv] = True\n",
        "        for i in range(self.nVertices):\n",
        "            if (self.adjMatrix[sv][i]>0 and visited[i] is False):\n",
        "                self.__dfsHelper(i,visited)\n",
        "    \n",
        "    def dfs(self):\n",
        "        visited = [False for i in range(self.nVertices)]\n",
        "        self.__dfsHelper(0, visited)\n",
        "\n",
        "    def bfs(self):\n",
        "        q = queue.Queue()\n",
        "        q.put(0)\n",
        "        visited = [False for i in range(self.nVertices)] \n",
        "        visited[0] = True\n",
        "        while q.empty() is False:\n",
        "            u = q.get()\n",
        "            for i in range(self.nVertices):\n",
        "                if self.adjMatrix[u][i]>0 and visited[i] is False:\n",
        "                    q.put(i)\n",
        "                    visited[i] = True\n",
        "\n",
        "  \n",
        "    def removeEdge(self,v1,v2):\n",
        "        if self.containsEdge(v1,v2) is False:\n",
        "            return\n",
        "        self.adjMatrix[v1][v2] = 0\n",
        "        self.adjMatrix[v2][v2] = 0\n",
        "    \n",
        "    def containsEdge(self, v1,v2):\n",
        "        return True if self.adjMatrix[v1][v2]>0 else False\n",
        "\n",
        "    def __str__(self):\n",
        "        return str(self.adjMatrix)\n",
        "    \n",
        "\n",
        "g = Graph(5)\n",
        "g.addEdge(0,1)\n",
        "g.addEdge(1,3)\n",
        "g.addEdge(2,4)\n",
        "g.addEdge(2,3)\n",
        "g.addEdge(0,2)\n",
        "g.dfs()\n",
        "g.bfs()\n",
        "\n",
        "\n"
      ],
      "metadata": {
        "colab": {
          "base_uri": "https://localhost:8080/"
        },
        "id": "RAYAelyfn1XY",
        "outputId": "708b3ef2-c493-40fa-f73d-6367116f0c0c"
      },
      "execution_count": 2,
      "outputs": [
        {
          "output_type": "stream",
          "name": "stdout",
          "text": [
            "0\n",
            "1\n",
            "3\n",
            "2\n",
            "4\n"
          ]
        }
      ]
    },
    {
      "cell_type": "code",
      "source": [
        ""
      ],
      "metadata": {
        "id": "AZJQxnlFx8Jk"
      },
      "execution_count": null,
      "outputs": []
    }
  ]
}